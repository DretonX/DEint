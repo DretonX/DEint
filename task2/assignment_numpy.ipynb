{
 "cells": [
  {
   "cell_type": "markdown",
   "id": "d3df79dd",
   "metadata": {},
   "source": [
    "## Упражнения по библиотеке Numpy"
   ]
  },
  {
   "cell_type": "code",
   "id": "76b9c43b",
   "metadata": {
    "ExecuteTime": {
     "end_time": "2024-07-17T09:48:45.606279Z",
     "start_time": "2024-07-17T09:48:44.985575Z"
    }
   },
   "source": [
    "import numpy as np"
   ],
   "outputs": [],
   "execution_count": 1
  },
  {
   "cell_type": "markdown",
   "id": "03727b7c",
   "metadata": {},
   "source": [
    "**1.** Дан случайный массив, поменять знак у элементов, значения которых между 3 и 8"
   ]
  },
  {
   "cell_type": "code",
   "id": "b89a7523",
   "metadata": {
    "ExecuteTime": {
     "end_time": "2024-07-16T06:23:11.591849Z",
     "start_time": "2024-07-16T06:23:11.588125Z"
    }
   },
   "source": [
    "arr = np.array([x for x in range(10)])\n",
    "print(arr)"
   ],
   "outputs": [
    {
     "name": "stdout",
     "output_type": "stream",
     "text": [
      "[0 1 2 3 4 5 6 7 8 9]\n"
     ]
    }
   ],
   "execution_count": 3
  },
  {
   "metadata": {
    "ExecuteTime": {
     "end_time": "2024-07-16T06:23:13.607687Z",
     "start_time": "2024-07-16T06:23:13.603464Z"
    }
   },
   "cell_type": "code",
   "source": [
    "arr[(arr>3)&(arr<8)]*=-1\n",
    "print(arr)"
   ],
   "id": "214442d46e42816d",
   "outputs": [
    {
     "name": "stdout",
     "output_type": "stream",
     "text": [
      "[ 0  1  2  3 -4 -5 -6 -7  8  9]\n"
     ]
    }
   ],
   "execution_count": 4
  },
  {
   "cell_type": "markdown",
   "id": "5fa4abda",
   "metadata": {},
   "source": [
    "**2.** Заменить максимальный элемент случайного массива на 0"
   ]
  },
  {
   "cell_type": "code",
   "id": "f2788a6e",
   "metadata": {
    "ExecuteTime": {
     "end_time": "2024-07-15T08:05:53.018615Z",
     "start_time": "2024-07-15T08:05:53.015007Z"
    }
   },
   "source": [
    "arr[(max(arr))]=0\n",
    "print(arr)"
   ],
   "outputs": [
    {
     "name": "stdout",
     "output_type": "stream",
     "text": [
      "[ 0  1  2  3 -4 -5 -6 -7  8  0]\n"
     ]
    }
   ],
   "execution_count": 5
  },
  {
   "cell_type": "markdown",
   "id": "3cac656b",
   "metadata": {},
   "source": [
    "**3.** Построить прямое произведение массивов (все комбинации с каждым элементом). На вход подается двумерный массив"
   ]
  },
  {
   "cell_type": "code",
   "id": "3396b764",
   "metadata": {
    "ExecuteTime": {
     "end_time": "2024-07-16T06:23:20.668723Z",
     "start_time": "2024-07-16T06:23:20.238290Z"
    }
   },
   "source": [
    "arr1 = np.random.randint(-10,10,20)\n",
    "arr2 = np.random.randint(-10,10,20)\n",
    "\n",
    "print(f'arr1{arr1}')\n",
    "print(f'arr2{arr2}')"
   ],
   "outputs": [
    {
     "name": "stdout",
     "output_type": "stream",
     "text": [
      "arr1[ -4   9   5  -9   6  -4  -2  -8 -10  -7   1  -3   2  -4   1   7   7  -8\n",
      "   9  -1]\n",
      "arr2[  7   4   3   5  -8   2   2  -1   7   2   7   4 -10  -6   5  -3  -2  -2\n",
      "  -9  -2]\n"
     ]
    }
   ],
   "execution_count": 5
  },
  {
   "metadata": {
    "ExecuteTime": {
     "end_time": "2024-07-16T08:00:34.732327Z",
     "start_time": "2024-07-16T08:00:34.727183Z"
    }
   },
   "cell_type": "code",
   "source": [
    "new_arr = []\n",
    "for x in arr1.ravel(): #arr1.ravel() - make a flat view of arr1\n",
    "    temp_row = [] #make a temp row\n",
    "    for y in arr2.ravel():\n",
    "        temp_row.append(x*y)\n",
    "    new_arr.append(temp_row)\n",
    "final_result = np.array(new_arr)\n",
    "final_result=final_result.reshape(arr1.size, arr2.size)\n",
    "print(final_result)"
   ],
   "id": "bffa9da104b57c21",
   "outputs": [
    {
     "name": "stdout",
     "output_type": "stream",
     "text": [
      "[[-28 -16 -12 -20  32  -8  -8   4 -28  -8 -28 -16  40  24 -20  12   8   8\n",
      "   36   8]\n",
      " [ 63  36  27  45 -72  18  18  -9  63  18  63  36 -90 -54  45 -27 -18 -18\n",
      "  -81 -18]\n",
      " [ 35  20  15  25 -40  10  10  -5  35  10  35  20 -50 -30  25 -15 -10 -10\n",
      "  -45 -10]\n",
      " [-63 -36 -27 -45  72 -18 -18   9 -63 -18 -63 -36  90  54 -45  27  18  18\n",
      "   81  18]\n",
      " [ 42  24  18  30 -48  12  12  -6  42  12  42  24 -60 -36  30 -18 -12 -12\n",
      "  -54 -12]\n",
      " [-28 -16 -12 -20  32  -8  -8   4 -28  -8 -28 -16  40  24 -20  12   8   8\n",
      "   36   8]\n",
      " [-14  -8  -6 -10  16  -4  -4   2 -14  -4 -14  -8  20  12 -10   6   4   4\n",
      "   18   4]\n",
      " [-56 -32 -24 -40  64 -16 -16   8 -56 -16 -56 -32  80  48 -40  24  16  16\n",
      "   72  16]\n",
      " [-70 -40 -30 -50  80 -20 -20  10 -70 -20 -70 -40 100  60 -50  30  20  20\n",
      "   90  20]\n",
      " [-49 -28 -21 -35  56 -14 -14   7 -49 -14 -49 -28  70  42 -35  21  14  14\n",
      "   63  14]\n",
      " [  7   4   3   5  -8   2   2  -1   7   2   7   4 -10  -6   5  -3  -2  -2\n",
      "   -9  -2]\n",
      " [-21 -12  -9 -15  24  -6  -6   3 -21  -6 -21 -12  30  18 -15   9   6   6\n",
      "   27   6]\n",
      " [ 14   8   6  10 -16   4   4  -2  14   4  14   8 -20 -12  10  -6  -4  -4\n",
      "  -18  -4]\n",
      " [-28 -16 -12 -20  32  -8  -8   4 -28  -8 -28 -16  40  24 -20  12   8   8\n",
      "   36   8]\n",
      " [  7   4   3   5  -8   2   2  -1   7   2   7   4 -10  -6   5  -3  -2  -2\n",
      "   -9  -2]\n",
      " [ 49  28  21  35 -56  14  14  -7  49  14  49  28 -70 -42  35 -21 -14 -14\n",
      "  -63 -14]\n",
      " [ 49  28  21  35 -56  14  14  -7  49  14  49  28 -70 -42  35 -21 -14 -14\n",
      "  -63 -14]\n",
      " [-56 -32 -24 -40  64 -16 -16   8 -56 -16 -56 -32  80  48 -40  24  16  16\n",
      "   72  16]\n",
      " [ 63  36  27  45 -72  18  18  -9  63  18  63  36 -90 -54  45 -27 -18 -18\n",
      "  -81 -18]\n",
      " [ -7  -4  -3  -5   8  -2  -2   1  -7  -2  -7  -4  10   6  -5   3   2   2\n",
      "    9   2]]\n"
     ]
    }
   ],
   "execution_count": 20
  },
  {
   "cell_type": "markdown",
   "id": "674c9354",
   "metadata": {},
   "source": [
    "**4.** Даны 2 массива A (8x3) и B (2x2). Найти строки в A, которые содержат элементы из каждой строки в B, независимо от порядка элементов в B"
   ]
  },
  {
   "cell_type": "code",
   "id": "cb664782",
   "metadata": {
    "ExecuteTime": {
     "end_time": "2024-07-16T06:23:33.442465Z",
     "start_time": "2024-07-16T06:23:33.437220Z"
    }
   },
   "source": [
    "mass_A = np.random.randint(0, 10, (8, 3))\n",
    "mass_B = np.random.randint(0, 10, (2, 2))\n",
    "\n",
    "print(f\"Matrix A: \\n {mass_A}\")\n",
    "print(f\"\\nMatrix B: \\n {mass_B}\")\n",
    "\n",
    "matching_rows = []\n",
    "for i, row_a in enumerate(mass_A):\n",
    "    for row_b in mass_B:\n",
    "        if all(item in row_a for item in row_b):\n",
    "            matching_rows.append(i) #if statement is True\n",
    "            break\n",
    "\n",
    "\n",
    "\n",
    "print(f\"\\n Rows in , matrix A that contain all elements from any row in matrix B: {matching_rows}\")"
   ],
   "outputs": [
    {
     "name": "stdout",
     "output_type": "stream",
     "text": [
      "Matrix A: \n",
      " [[1 2 4]\n",
      " [3 3 7]\n",
      " [5 0 5]\n",
      " [3 4 7]\n",
      " [7 2 0]\n",
      " [8 5 2]\n",
      " [2 6 1]\n",
      " [5 9 7]]\n",
      "\n",
      "Matrix B: \n",
      " [[8 0]\n",
      " [0 5]]\n",
      "\n",
      " Rows in , matrix A that contain all elements from any row in matrix B: [2]\n"
     ]
    }
   ],
   "execution_count": 7
  },
  {
   "cell_type": "markdown",
   "id": "fa46533b",
   "metadata": {},
   "source": [
    "**5.** Дана 10x3 матрица, найти строки из неравных значений (например строка [2,2,3] остается, строка [3,3,3] удаляется)"
   ]
  },
  {
   "cell_type": "code",
   "id": "fa545b23",
   "metadata": {
    "ExecuteTime": {
     "end_time": "2024-07-16T06:23:38.633543Z",
     "start_time": "2024-07-16T06:23:38.626745Z"
    }
   },
   "source": [
    "matrix_one = np.random.randint(0, 3, (10, 3))\n",
    "print(f'Starter matrix \\n {matrix_one}')\n",
    "filtered_matrix = matrix_one[np.max(matrix_one, axis=1) != np.min(matrix_one, axis=1)] #Filter of matrix\n",
    "print(f'Matrix with out full duplicates values in one row \\n {filtered_matrix}')"
   ],
   "outputs": [
    {
     "name": "stdout",
     "output_type": "stream",
     "text": [
      "Starter matrix \n",
      " [[2 0 1]\n",
      " [2 0 2]\n",
      " [1 0 0]\n",
      " [2 2 2]\n",
      " [1 2 1]\n",
      " [2 1 0]\n",
      " [2 2 0]\n",
      " [1 1 0]\n",
      " [0 1 1]\n",
      " [2 1 1]]\n",
      "Matrix with out full duplicates values in one row \n",
      " [[2 0 1]\n",
      " [2 0 2]\n",
      " [1 0 0]\n",
      " [1 2 1]\n",
      " [2 1 0]\n",
      " [2 2 0]\n",
      " [1 1 0]\n",
      " [0 1 1]\n",
      " [2 1 1]]\n"
     ]
    }
   ],
   "execution_count": 8
  },
  {
   "cell_type": "markdown",
   "id": "28f0d116",
   "metadata": {},
   "source": [
    "**6.** Дан двумерный массив. Удалить те строки, которые повторяются"
   ]
  },
  {
   "cell_type": "code",
   "id": "83d2c0b7",
   "metadata": {
    "ExecuteTime": {
     "end_time": "2024-07-16T08:04:18.952049Z",
     "start_time": "2024-07-16T08:04:18.947515Z"
    }
   },
   "source": [
    "matrix_two = np.random.randint(0, 2, (10, 3))\n",
    "print(f'base matrix : \\n{matrix_two}')\n",
    "unique_rows = np.unique(matrix_two, axis=0)\n",
    "\n",
    "print(f\"\\nMatrix after deleting of duplicates rows: with final rows - {len(unique_rows)} from {len(matrix_two)}\")\n",
    "print(unique_rows)"
   ],
   "outputs": [
    {
     "name": "stdout",
     "output_type": "stream",
     "text": [
      "base matrix : \n",
      "[[1 0 0]\n",
      " [0 0 1]\n",
      " [0 1 0]\n",
      " [1 0 0]\n",
      " [1 0 1]\n",
      " [0 1 1]\n",
      " [0 1 0]\n",
      " [1 0 1]\n",
      " [1 1 1]\n",
      " [1 0 1]]\n",
      "\n",
      "Matrix after deleting of duplicates rows: with final rows - 6 from 10\n",
      "[[0 0 1]\n",
      " [0 1 0]\n",
      " [0 1 1]\n",
      " [1 0 0]\n",
      " [1 0 1]\n",
      " [1 1 1]]\n"
     ]
    }
   ],
   "execution_count": 25
  },
  {
   "cell_type": "markdown",
   "id": "6daa9e37",
   "metadata": {},
   "source": ""
  },
  {
   "cell_type": "markdown",
   "id": "cfbfcaff",
   "metadata": {},
   "source": [
    "Для каждой из следующих задач (1-5) нужно привести 2 реализации – одна без использования numpy (cчитайте, что там, где на входе или выходе должны быть numpy array, будут просто списки), а вторая полностью векторизованная с использованием numpy (без использования питоновских циклов/map/list comprehension).\n",
    "\n",
    "\n",
    "__Замечание 1.__ Можно считать, что все указанные объекты непустые (к примеру, в __задаче 1__ на диагонали матрицы есть ненулевые элементы).\n",
    "\n",
    "__Замечание 2.__ Для большинства задач решение занимает не больше 1-2 строк."
   ]
  },
  {
   "cell_type": "markdown",
   "id": "673cac7f",
   "metadata": {},
   "source": [
    "___"
   ]
  },
  {
   "cell_type": "markdown",
   "id": "ca6f585e",
   "metadata": {},
   "source": [
    "* __Задача 1__: Подсчитать произведение ненулевых элементов на диагонали прямоугольной матрицы.  \n",
    " Например, для X = np.array([[1, 0, 1], [2, 0, 2], [3, 0, 3], [4, 4, 4]]) ответ 3."
   ]
  },
  {
   "cell_type": "code",
   "id": "065862fc",
   "metadata": {
    "ExecuteTime": {
     "end_time": "2024-07-16T07:58:09.234810Z",
     "start_time": "2024-07-16T07:58:09.229952Z"
    }
   },
   "source": [
    "'''First method without NumPy'''\n",
    "X = [[1, 0, 1], [2, 0, 2], [3, 0, 3], [4, 4, 4]]\n",
    "final_sum = 1\n",
    "for i in range(min(len(X), len(\n",
    "        X[0]))):  #Get indexes of row ( In this example quantity columns should be equals of rows for calculation)\n",
    "    if X[i][i] != 0:  #Checking if number not equal - 0\n",
    "        final_sum *= X[i][i]\n",
    "print(f'Sum by NumPy {final_sum}')\n",
    "\n",
    "'''Second method without NumPy'''\n",
    "X = np.array([[1, 0, 1], [2, 0, 2], [3, 0, 3], [4, 4, 4]])\n",
    "more_then_0 = np.diag(X) != 0 #Get bool arrray\n",
    "only_from_1 = np.diag(X)[more_then_0] #Get numbers more then 0 from diagonal\n",
    "sum_diag = np.prod(only_from_1) #sum\n",
    "print(f'Sum by Python {sum_diag}')\n"
   ],
   "outputs": [
    {
     "name": "stdout",
     "output_type": "stream",
     "text": [
      "Sum by NumPy 3\n",
      "Sum by Python 3\n"
     ]
    }
   ],
   "execution_count": 18
  },
  {
   "cell_type": "markdown",
   "id": "9fc51d41",
   "metadata": {},
   "source": [
    "* __Задача 2__: Даны два вектора x и y. Проверить, задают ли они одно и то же мультимножество.  \n",
    "  Например, для x = np.array([1, 2, 2, 4]), y = np.array([4, 2, 1, 2]) ответ True."
   ]
  },
  {
   "cell_type": "code",
   "id": "a809e02f",
   "metadata": {
    "ExecuteTime": {
     "end_time": "2024-07-16T07:59:13.468474Z",
     "start_time": "2024-07-16T07:59:13.462578Z"
    }
   },
   "source": [
    "x = [1, 2, 2, 4]\n",
    "y = [4, 2, 1, 2]\n",
    "\n",
    "def check_func(x,y):\n",
    "    result_numpy = np.array_equal(np.sort(np.array(x)), np.sort(np.array(y)))\n",
    "    result_python = sorted(x) == sorted(y)\n",
    "    return f'equals \\n by NymPy - {result_numpy} \\n by Python -  {result_python}'\n",
    "\n",
    "print(\"Result:\", check_func(x,y))"
   ],
   "outputs": [
    {
     "name": "stdout",
     "output_type": "stream",
     "text": [
      "Result: equals \n",
      " by NymPy - True \n",
      " by Python -  True\n"
     ]
    }
   ],
   "execution_count": 19
  },
  {
   "cell_type": "markdown",
   "id": "b9c185c7",
   "metadata": {},
   "source": [
    "* __Задача 3__: Найти максимальный элемент в векторе x среди элементов, перед которыми стоит ноль. \n",
    " Например, для x = np.array([6, 2, 0, 3, 0, 0, 5, 7, 0]) ответ 5."
   ]
  },
  {
   "cell_type": "code",
   "execution_count": 158,
   "id": "b57df008",
   "metadata": {},
   "outputs": [],
   "source": [
    "import numpy as np\n",
    "\n",
    "x = np.array([6, 2, 0, 3, 0, 0, 5, 7, 0])\n",
    "#Search zero positions\n",
    "''' Make a slice without last position - (It will help me with next \n",
    "calculation) Escape from error - Out of range'''\n",
    "zero_position = np.where(x[:-1] == 0)[0]\n",
    "# All position equals - 0, Last [0] - for 'cleaning' calculation, without [0] will be zero_indices = np.where(x[:-1]\n",
    "# == 0)[0]\n",
    "next_from_zero = x[zero_position + 1]  #Gives all position next to 0\n",
    "max_from_zero = max(next_from_zero)  #Max value from all positions\n",
    "print(f' NumPy realisation - {max_from_zero}')\n",
    "\n",
    "\n",
    "\n",
    "x = [6, 2, 0, 3, 0, 0, 5, 7, 0]\n",
    "next_elements = []\n",
    "for i in range(len(x) - 1):\n",
    "    if x[i] == 0:\n",
    "        next_elements.append(x[i+1])\n",
    "# next_elements = [x[i+1] for i in range(len(x) - 1 if x[i] == 0] - For example if use List Comprehension\n",
    "print(f' Python realisation - {max(next_elements)}')"
   ]
  },
  {
   "cell_type": "markdown",
   "id": "480be4ce",
   "metadata": {},
   "source": [
    "* __Задача 4__: Реализовать кодирование длин серий (Run-length encoding). Для некоторого вектора x необходимо вернуть кортеж из двух векторов одинаковой длины. Первый содержит числа, а второй - сколько раз их нужно повторить.  \n",
    " Например, для x = np.array([2, 2, 2, 3, 3, 3, 5]) ответ (np.array([2, 3, 5]), np.array([3, 3, 1]))."
   ]
  },
  {
   "cell_type": "code",
   "id": "3c592124",
   "metadata": {
    "ExecuteTime": {
     "end_time": "2024-07-16T13:11:23.997468Z",
     "start_time": "2024-07-16T13:11:23.990897Z"
    }
   },
   "source": [
    "# your code\n",
    "x = [2, 2, 2, 3, 3, 3, 5]\n",
    "# I can use set(x), but it will be sorted values. If x will [7,7,7,2,2,3,3,5] - It will be incorrect answer.\n",
    "val = []\n",
    "for num in x:\n",
    "    if num not in val:\n",
    "        val.append(num)\n",
    "\n",
    "counts = [x.count(i) for i in val]\n",
    "    \n",
    "print(f'Python realisation - Counts: {counts}, Values: {val}')\n",
    "\n",
    "import numpy as np\n",
    "\n",
    "def rle_func(arr):\n",
    "    n = len(arr)  #Length of array\n",
    "    if n == 0:\n",
    "        counts_n,values_n = np.array([]) #Conditions for empty array\n",
    "    else:\n",
    "        # Find position with changes values\n",
    "        changes = arr[1:] != arr[:-1]  # Array with changes values whete \"True\" is changes\n",
    "\n",
    "        #Get index with changes\n",
    "        change_indices = np.nonzero(changes)[0]  \n",
    "        # '-1' for added first element\n",
    "        # 'n - 1' (n - is length array arr) for added the last position\n",
    "        positions = np.concatenate([[-1], change_indices, [len(arr) - 1]])\n",
    "        # calculation of length position\n",
    "        counts_n = np.diff(positions)\n",
    "        # Get starting values for each positions\n",
    "        values_n = arr[positions[:-1] + 1]\n",
    "    return values_n, counts_n\n",
    "\n",
    "x = np.array([2, 2, 2, 3, 3, 3, 5])\n",
    "values, counts = rle_func(x)\n",
    "print(f'NumPy realisation - Counts: {counts}, Values: {values}')\n"
   ],
   "outputs": [
    {
     "name": "stdout",
     "output_type": "stream",
     "text": [
      "Python realisation - Counts: [3, 3, 1], Values: [2, 3, 5]\n",
      "NumPy realisation - Counts: [3 3 1], Values: [2 3 5]\n"
     ]
    }
   ],
   "execution_count": 39
  },
  {
   "cell_type": "markdown",
   "id": "077532ec",
   "metadata": {},
   "source": [
    "* __Задача 5__: Даны две выборки объектов - X и Y. Вычислить матрицу евклидовых расстояний между объектами. Сравните с функцией scipy.spatial.distance.cdist по скорости работы."
   ]
  },
  {
   "cell_type": "code",
   "id": "1e807797",
   "metadata": {
    "ExecuteTime": {
     "end_time": "2024-07-17T06:51:12.298518Z",
     "start_time": "2024-07-17T06:51:12.287599Z"
    }
   },
   "source": [
    "from math import sqrt\n",
    "\n",
    "def euclidean_distances_no_numpy(X, Y):\n",
    "    distances = []\n",
    "    for x in X:\n",
    "        row = []\n",
    "        for y in Y:\n",
    "            sum_squares = sum((xi - yi) ** 2 for xi, yi in zip(x, y))\n",
    "            row.append(sqrt(sum_squares))\n",
    "        distances.append(row)\n",
    "    return distances\n",
    "\n",
    "# Пример использования:\n",
    "X_list = [[1, 2], [3, 4]]\n",
    "Y_list = [[5, 6], [7, 8]]\n",
    "print(euclidean_distances_no_numpy(X_list, Y_list))\n",
    "\n",
    "\n",
    "import numpy as np\n",
    "\n",
    "def euclidean_distances_numpy(X, Y):\n",
    "    # Преобразуем списки в массивы NumPy, если они ещё не массивы\n",
    "    X = np.array(X)\n",
    "    Y = np.array(Y)\n",
    "    # Вычисляем квадраты разностей и суммируем их\n",
    "    diff = X[:, np.newaxis, :] - Y[np.newaxis, :, :]\n",
    "    dist = np.sqrt(np.sum(diff**2, axis=2))\n",
    "    return dist\n",
    "\n",
    "# Пример использования:\n",
    "X_array = [[1, 2], [3, 4]]\n",
    "Y_array = [[5, 6], [7, 8]]\n",
    "print(euclidean_distances_numpy(X_array, Y_array))\n",
    "\n"
   ],
   "outputs": [
    {
     "name": "stdout",
     "output_type": "stream",
     "text": [
      "[[5.656854249492381, 8.48528137423857], [2.8284271247461903, 5.656854249492381]]\n",
      "[[5.65685425 8.48528137]\n",
      " [2.82842712 5.65685425]]\n"
     ]
    }
   ],
   "execution_count": 6
  },
  {
   "cell_type": "markdown",
   "id": "973e8064",
   "metadata": {},
   "source": ""
  },
  {
   "cell_type": "markdown",
   "id": "1104acb7",
   "metadata": {},
   "source": [
    "* #### __Задача 6__: CrunchieMunchies __*__\n",
    "\n",
    "Вы работаете в отделе маркетинга пищевой компании MyCrunch, которая разрабатывает новый вид вкусных, полезных злаков под названием **CrunchieMunchies**.\n",
    "\n",
    "Вы хотите продемонстрировать потребителям, насколько полезны ваши хлопья по сравнению с другими ведущими брендами, поэтому вы собрали данные о питании нескольких разных конкурентов.\n",
    "\n",
    "Ваша задача - использовать вычисления Numpy для анализа этих данных и доказать, что ваши **СrunchieMunchies** - самый здоровый выбор для потребителей.\n"
   ]
  },
  {
   "cell_type": "code",
   "id": "10a77f8d",
   "metadata": {
    "ExecuteTime": {
     "end_time": "2024-07-17T06:52:50.858025Z",
     "start_time": "2024-07-17T06:52:50.855612Z"
    }
   },
   "source": [
    "import numpy as np"
   ],
   "outputs": [],
   "execution_count": 7
  },
  {
   "cell_type": "markdown",
   "id": "ab87cb03",
   "metadata": {},
   "source": [
    "1. Просмотрите файл cereal.csv. Этот файл содержит количества калорий для различных марок хлопьев. Загрузите данные из файла и сохраните их как calorie_stats."
   ]
  },
  {
   "cell_type": "code",
   "id": "9681ebf2",
   "metadata": {
    "ExecuteTime": {
     "end_time": "2024-07-17T06:52:54.770418Z",
     "start_time": "2024-07-17T06:52:54.759252Z"
    }
   },
   "source": [
    "calorie_stats = np.loadtxt(\"./data/cereal.csv\", delimiter=\",\")\n",
    "calorie_stats"
   ],
   "outputs": [
    {
     "data": {
      "text/plain": [
       "array([ 70., 120.,  70.,  50., 110., 110., 110., 130.,  90.,  90., 120.,\n",
       "       110., 120., 110., 110., 110., 100., 110., 110., 110., 100., 110.,\n",
       "       100., 100., 110., 110., 100., 120., 120., 110., 100., 110., 100.,\n",
       "       110., 120., 120., 110., 110., 110., 140., 110., 100., 110., 100.,\n",
       "       150., 150., 160., 100., 120., 140.,  90., 130., 120., 100.,  50.,\n",
       "        50., 100., 100., 120., 100.,  90., 110., 110.,  80.,  90.,  90.,\n",
       "       110., 110.,  90., 110., 140., 100., 110., 110., 100., 100., 110.])"
      ]
     },
     "execution_count": 8,
     "metadata": {},
     "output_type": "execute_result"
    }
   ],
   "execution_count": 8
  },
  {
   "cell_type": "markdown",
   "id": "139cfbd8",
   "metadata": {},
   "source": [
    "2. В одной порции CrunchieMunchies содержится 60 калорий. Насколько выше среднее количество калорий у ваших конкурентов?\n",
    "\n",
    "Сохраните ответ в переменной average_calories и распечатайте переменную в терминале"
   ]
  },
  {
   "cell_type": "code",
   "id": "7036d240",
   "metadata": {
    "ExecuteTime": {
     "end_time": "2024-07-17T08:20:13.779699Z",
     "start_time": "2024-07-17T08:20:13.775821Z"
    }
   },
   "source": [
    "crunchies_calories = 60\n",
    "average_calories = calorie_stats.mean()\n",
    "deference_calories = crunchies_calories-average_calories\n",
    "print(f'Average calories of competitors: {round(average_calories,2)}')\n",
    "print(f'Deference on calories between CrunchieMunchies product and competitors products: {round(deference_calories)}')"
   ],
   "outputs": [
    {
     "name": "stdout",
     "output_type": "stream",
     "text": [
      "Average calories of competitors: 106.88\n",
      "Deference on calories between CrunchieMunchies product and competitors products: -47\n"
     ]
    }
   ],
   "execution_count": 37
  },
  {
   "cell_type": "markdown",
   "id": "b2ddb4cd",
   "metadata": {},
   "source": [
    "3. Корректно ли среднее количество калорий отражает распределение набора данных? Давайте отсортируем данные и посмотрим.\n",
    "\n",
    "Отсортируйте данные и сохраните результат в переменной calorie_stats_sorted. Распечатайте отсортированную информацию"
   ]
  },
  {
   "cell_type": "code",
   "id": "46eeb4ed",
   "metadata": {
    "ExecuteTime": {
     "end_time": "2024-07-17T07:31:28.231552Z",
     "start_time": "2024-07-17T07:31:28.226898Z"
    }
   },
   "source": [
    "calorie_sorted = np.sort(calorie_stats)\n",
    "print(f'Sorted calorie values: \\n {calorie_sorted}')"
   ],
   "outputs": [
    {
     "name": "stdout",
     "output_type": "stream",
     "text": [
      "Sorted calorie values: \n",
      " [ 50.  50.  50.  70.  70.  80.  90.  90.  90.  90.  90.  90.  90. 100.\n",
      " 100. 100. 100. 100. 100. 100. 100. 100. 100. 100. 100. 100. 100. 100.\n",
      " 100. 100. 110. 110. 110. 110. 110. 110. 110. 110. 110. 110. 110. 110.\n",
      " 110. 110. 110. 110. 110. 110. 110. 110. 110. 110. 110. 110. 110. 110.\n",
      " 110. 110. 110. 120. 120. 120. 120. 120. 120. 120. 120. 120. 120. 130.\n",
      " 130. 140. 140. 140. 150. 150. 160.]\n"
     ]
    }
   ],
   "execution_count": 21
  },
  {
   "cell_type": "markdown",
   "id": "4dc74116",
   "metadata": {},
   "source": [
    "4. Похоже, что большинство значений выше среднего. Давайте посмотрим, является ли медиана наиболее корректным показателем набора данных.\n",
    "\n",
    "Вычислите медиану набора данных и сохраните свой ответ в median_calories. Выведите медиану, чтобы вы могли видеть, как она сравнивается со средним значением."
   ]
  },
  {
   "cell_type": "code",
   "id": "b56627c3",
   "metadata": {
    "ExecuteTime": {
     "end_time": "2024-07-17T07:33:55.641170Z",
     "start_time": "2024-07-17T07:33:55.613344Z"
    }
   },
   "source": [
    "median_calories = np.median(calorie_stats)\n",
    "print(f'Median calorie value: {median_calories}')"
   ],
   "outputs": [
    {
     "name": "stdout",
     "output_type": "stream",
     "text": [
      "Median calorie value: 110.0\n"
     ]
    }
   ],
   "execution_count": 22
  },
  {
   "cell_type": "markdown",
   "id": "a63ab72f",
   "metadata": {},
   "source": [
    "5. В то время как медиана показывает, что по крайней мере половина наших значений составляет более 100 калорий, было бы более впечатляюще показать, что значительная часть конкурентов имеет более высокое количество калорий, чем CrunchieMunchies.\n",
    "\n",
    "Рассчитайте различные процентили и распечатайте их, пока не найдете наименьший процентиль, превышающий 60 калорий. Сохраните это значение в переменной nth_percentile."
   ]
  },
  {
   "cell_type": "code",
   "id": "fe80ce03",
   "metadata": {
    "ExecuteTime": {
     "end_time": "2024-07-17T08:09:27.827810Z",
     "start_time": "2024-07-17T08:09:27.823090Z"
    }
   },
   "source": [
    "nth_percentile = None\n",
    "for pr in range(101):  # Interval up to 100%\n",
    "    percentile_value = np.percentile(calorie_stats, pr)\n",
    "    print(f'{pr}th percentile: {round(percentile_value)}') #Value after interpolation\n",
    "    if percentile_value > 60:\n",
    "        nth_percentile = pr\n",
    "        print(f'Lower percentile, more then 60 calories is {pr}th percentile with values {percentile_value}')\n",
    "        break\n",
    "\n"
   ],
   "outputs": [
    {
     "name": "stdout",
     "output_type": "stream",
     "text": [
      "0th percentile: 50\n",
      "1th percentile: 50\n",
      "2th percentile: 50\n",
      "3th percentile: 56\n",
      "4th percentile: 70\n",
      "Lower percentile, more then 60 calories is 4th percentile with values 70.0\n"
     ]
    }
   ],
   "execution_count": 29
  },
  {
   "cell_type": "markdown",
   "id": "a2a3c5aa",
   "metadata": {},
   "source": [
    "6. Хотя процентиль показывает нам, что у большинства конкурентов количество калорий намного выше, это неудобная концепция для использования в маркетинговых материалах.\n",
    "\n",
    "Вместо этого давайте подсчитаем процент хлопьев, в которых содержится более 60 калорий на порцию. Сохраните свой ответ в переменной more_calories и распечатайте его"
   ]
  },
  {
   "cell_type": "code",
   "id": "ade0f6ea",
   "metadata": {
    "ExecuteTime": {
     "end_time": "2024-07-17T08:22:00.588065Z",
     "start_time": "2024-07-17T08:22:00.583649Z"
    }
   },
   "source": [
    "count_greater_60 = np.count_nonzero(calorie_stats > 60)\n",
    "more_calories = (count_greater_60 / len(calorie_stats)) * 100\n",
    "\n",
    "print(f'Percent values more then 60: {round(more_calories,2)}%')"
   ],
   "outputs": [
    {
     "name": "stdout",
     "output_type": "stream",
     "text": [
      "Percent values more then 60: 96.1%\n"
     ]
    }
   ],
   "execution_count": 40
  },
  {
   "cell_type": "markdown",
   "id": "1735d65b",
   "metadata": {},
   "source": [
    "7. Это действительно высокий процент. Это будет очень полезно, когда мы будем продвигать CrunchieMunchies. Но один вопрос заключается в том, насколько велики различия в наборе данных? Можем ли мы сделать обобщение, что в большинстве злаков содержится около 100 калорий или разброс еще больше?\n",
    "\n",
    "Рассчитайте величину отклонения, найдя стандартное отклонение, Сохраните свой ответ в calorie_std и распечатайте на терминале. Как мы можем включить эту ценность в наш анализ?"
   ]
  },
  {
   "cell_type": "code",
   "id": "85c8df1f",
   "metadata": {
    "ExecuteTime": {
     "end_time": "2024-07-17T08:29:31.791620Z",
     "start_time": "2024-07-17T08:29:31.786549Z"
    }
   },
   "source": [
    "calorie_std = np.std(calorie_stats)\n",
    "print(f'Standard deviation of calorie values: {round(calorie_std,2)}')"
   ],
   "outputs": [
    {
     "name": "stdout",
     "output_type": "stream",
     "text": [
      "Standard deviation of calorie values: 19.36\n"
     ]
    }
   ],
   "execution_count": 42
  },
  {
   "cell_type": "markdown",
   "id": "037455c5",
   "metadata": {},
   "source": [
    "8. Напишите короткий абзац, в котором кратко изложите свои выводы и то, как, по вашему мнению, эти данные могут быть использованы в интересах Mycrunch при маркетинге CrunchieMunchies."
   ]
  },
  {
   "cell_type": "code",
   "id": "c260fee9",
   "metadata": {
    "ExecuteTime": {
     "end_time": "2024-07-17T10:08:28.852100Z",
     "start_time": "2024-07-17T10:08:28.828387Z"
    }
   },
   "source": "'''This reserch told us that most from competitors have greather calories than product Mycrunch. Value of calories in CrnchieMunchies less than median values. If this product will be same taysty than more half competitors product it can get more sall this products because with great taste. A lot of people want to great taste and low calorie - CrnchieMunchies will be great product for this tasks.'''",
   "outputs": [
    {
     "data": {
      "text/plain": [
       "'This reserch told us that most from competitors have greather calories than product Mycrunch. Value of calories in CrnchieMunchies less than median values. If this product will be same taysty than more half competitors product it can get more sall this products because with great taste. A lot of people want to great taste and low calorie - CrnchieMunchies will be great product for this tasks.'"
      ]
     },
     "execution_count": 2,
     "metadata": {},
     "output_type": "execute_result"
    }
   ],
   "execution_count": 2
  },
  {
   "metadata": {},
   "cell_type": "code",
   "outputs": [],
   "execution_count": null,
   "source": "",
   "id": "52a3ed91be4ff954"
  }
 ],
 "metadata": {
  "kernelspec": {
   "display_name": "Python 3 (ipykernel)",
   "language": "python",
   "name": "python3"
  },
  "language_info": {
   "codemirror_mode": {
    "name": "ipython",
    "version": 3
   },
   "file_extension": ".py",
   "mimetype": "text/x-python",
   "name": "python",
   "nbconvert_exporter": "python",
   "pygments_lexer": "ipython3",
   "version": "3.8.10"
  }
 },
 "nbformat": 4,
 "nbformat_minor": 5
}
