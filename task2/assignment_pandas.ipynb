{
 "cells": [
  {
   "cell_type": "markdown",
   "metadata": {},
   "source": [
    "## Датасет собран из базы данных переписи 1994 года и содержит данные о доходах.\n",
    "### Информация о данных:\n",
    "* age: continuous.\n",
    "* workclass: Private, Self-emp-not-inc, Self-emp-inc, Federal-gov, Local-gov, State-gov, Without-pay, Never-worked.\n",
    "* fnlwgt: continuous.\n",
    "* education: Bachelors, Some-college, 11th, HS-grad, Prof-school, Assoc-acdm, Assoc-voc, 9th, 7th-8th, 12th, * Masters, 1st-4th, 10th, Doctorate, 5th-6th, Preschool.\n",
    "* education-num: continuous.\n",
    "* marital-status: Married-civ-spouse, Divorced, Never-married, Separated, Widowed, Married-spouse-absent, Married-AF-spouse.\n",
    "* occupation: Tech-support, Craft-repair, Other-service, Sales, Exec-managerial, Prof-specialty, Handlers-cleaners, Machine-op-inspct, Adm-clerical, Farming-fishing, Transport-moving, Priv-house-serv, Protective-serv, Armed-Forces.\n",
    "* relationship: Wife, Own-child, Husband, Not-in-family, Other-relative, Unmarried.\n",
    "* race: White, Asian-Pac-Islander, Amer-Indian-Eskimo, Other, Black.\n",
    "* sex: Female, Male.\n",
    "* capital-gain: continuous.\n",
    "* capital-loss: continuous.\n",
    "* hours-per-week: continuous.\n",
    "* native-country: United-States, Cambodia, England, Puerto-Rico, Canada, Germany, Outlying-US(Guam-USVI-etc), India, Japan, Greece, South, China, Cuba, Iran, Honduras, Philippines, Italy, Poland, Jamaica, Vietnam, Mexico, Portugal, Ireland, France, Dominican-Republic, Laos, Ecuador, Taiwan, Haiti, Columbia, Hungary, Guatemala, Nicaragua, Scotland, Thailand, Yugoslavia, El-Salvador, Trinadad&Tobago, Peru, Hong, Holand-Netherlands.\n",
    "* salary: >50K,<=50K\n",
    "\n",
    "## Проведите анализ данных при помощи Pandas выполнив поставленные задачи.\n",
    "#### "
   ]
  },
  {
   "cell_type": "code",
   "metadata": {
    "ExecuteTime": {
     "end_time": "2024-07-18T06:39:15.972200Z",
     "start_time": "2024-07-18T06:39:15.954520Z"
    }
   },
   "source": [
    "import pandas as pd"
   ],
   "execution_count": 109,
   "outputs": []
  },
  {
   "cell_type": "code",
   "metadata": {
    "ExecuteTime": {
     "end_time": "2024-07-18T06:39:18.593476Z",
     "start_time": "2024-07-18T06:39:18.512428Z"
    }
   },
   "source": [
    "# загружаем датасет\n",
    "data = pd.read_csv(\"./data/adult.data.csv\")\n",
    "data.head()"
   ],
   "execution_count": 110,
   "outputs": []
  },
  {
   "cell_type": "markdown",
   "metadata": {},
   "source": [
    "**1. Посчитайте, сколько мужчин и женщин (признак *sex*) представлено в этом датасете**"
   ]
  },
  {
   "metadata": {
    "ExecuteTime": {
     "end_time": "2024-07-17T11:51:56.432550Z",
     "start_time": "2024-07-17T11:51:56.423841Z"
    }
   },
   "cell_type": "code",
   "source": [
    "male_count = data['sex'].value_counts()['Male']\n",
    "female_count = data['sex'].value_counts()['Female']\n",
    "\n",
    "print(f\"Number with Male: {male_count}\")\n",
    "print(f\"Number with Female: {female_count}\")"
   ],
   "execution_count": 20,
   "outputs": []
  },
  {
   "cell_type": "markdown",
   "metadata": {},
   "source": [
    "**2. Каков средний возраст мужчин (признак *age*) по всему датасету?**"
   ]
  },
  {
   "cell_type": "code",
   "metadata": {
    "ExecuteTime": {
     "end_time": "2024-07-17T11:15:26.998118Z",
     "start_time": "2024-07-17T11:15:26.989567Z"
    }
   },
   "source": [
    "average_men_age = data[data['sex'] == 'Male']['age'].mean()\n",
    "print(f\"Average Male age: {int(average_men_age)}\")"
   ],
   "execution_count": 12,
   "outputs": []
  },
  {
   "cell_type": "markdown",
   "metadata": {},
   "source": [
    "**3. Какова доля граждан Соединенных Штатов (признак *native-country*)?**"
   ]
  },
  {
   "cell_type": "code",
   "metadata": {
    "ExecuteTime": {
     "end_time": "2024-07-17T11:54:38.862893Z",
     "start_time": "2024-07-17T11:54:38.842649Z"
    }
   },
   "source": [
    "count_us_citizen = data['native-country'].value_counts()['United-States']\n",
    "all_citizen = data.count()['native-country']\n",
    "percentage = count_us_citizen/all_citizen*100\n",
    "print(f\"Number of US citizen: {round(percentage,2)}%\")"
   ],
   "execution_count": 23,
   "outputs": []
  },
  {
   "cell_type": "markdown",
   "metadata": {},
   "source": [
    "**4-5. Рассчитайте среднее значение и среднеквадратичное отклонение возраста тех, кто получает более 50K в год (признак *salary*) и тех, кто получает менее 50K в год**"
   ]
  },
  {
   "cell_type": "code",
   "metadata": {
    "ExecuteTime": {
     "end_time": "2024-07-17T12:16:35.002620Z",
     "start_time": "2024-07-17T12:16:34.988844Z"
    }
   },
   "source": [
    "std_more_50k = data.loc[data['salary'] == '>50K', 'age'].std()\n",
    "std_less_50k = data.loc[data['salary'] == '<=50K', 'age'].std()\n",
    "print(f' STD for than more 50k - {round(std_more_50k,2)}\\n STD for than less 50k - {round(std_less_50k,2)}')"
   ],
   "execution_count": 34,
   "outputs": []
  },
  {
   "cell_type": "markdown",
   "metadata": {},
   "source": [
    "**6. Правда ли, что люди, которые получают больше 50k, имеют минимум высшее образование? (признак *education – Bachelors, Prof-school, Assoc-acdm, Assoc-voc, Masters* или *Doctorate*)**"
   ]
  },
  {
   "cell_type": "code",
   "metadata": {
    "ExecuteTime": {
     "end_time": "2024-07-17T12:47:14.232836Z",
     "start_time": "2024-07-17T12:47:14.207013Z"
    }
   },
   "source": [
    "edu_levels = ['Bachelors', 'Prof-school', 'Assoc-acdm', 'Assoc-voc', 'Masters', 'Doctorate']\n",
    "high_edu_income = data[(data['salary'] == '>50K') & (data['education'].isin(edu_levels))]\n",
    "all_edu_income = data[(data['salary'] == '>50K')]\n",
    "percentage = (high_edu_income.shape[0] / data[data['salary'] == '>50K'].shape[0]) * 100 #Percentage of people earning >50K\n",
    "print(f'Percentage of people earning >50K with high education: {round(percentage,2)}%')\n",
    "print(f'This is all people whos have salary more than 50k -> {all_edu_income.shape[0]}, from this quantity we have -> {high_edu_income.shape[0]} whos have salary than 50k and have high education. This means that not all people whis have salary more than 50k have high education.')"
   ],
   "execution_count": 46,
   "outputs": []
  },
  {
   "cell_type": "markdown",
   "metadata": {},
   "source": [
    "**7. Выведите статистику возраста для каждой расы (признак *race*) и каждого пола. Используйте *groupby* и *describe*. Найдите таким образом максимальный возраст мужчин расы *Asian-Pac-Islander*.**"
   ]
  },
  {
   "cell_type": "code",
   "metadata": {
    "scrolled": true,
    "ExecuteTime": {
     "end_time": "2024-07-17T13:05:52.290112Z",
     "start_time": "2024-07-17T13:05:52.244002Z"
    }
   },
   "source": [
    "stats_age = data.groupby(['race','sex'])['age'].describe()\n",
    "print(stats_age)"
   ],
   "execution_count": 49,
   "outputs": []
  },
  {
   "cell_type": "markdown",
   "metadata": {},
   "source": [
    "**8. Среди кого больше доля зарабатывающих много (>50K): среди женатых или холостых мужчин (признак *marital-status*)? Женатыми считаем тех, у кого *marital-status* начинается с *Married* (Married-civ-spouse, Married-spouse-absent или Married-AF-spouse), остальных считаем холостыми.**"
   ]
  },
  {
   "cell_type": "code",
   "metadata": {
    "ExecuteTime": {
     "end_time": "2024-07-17T14:36:40.555304Z",
     "start_time": "2024-07-17T14:36:40.534573Z"
    }
   },
   "source": [
    "men_over_50k = data[(data['sex'] == 'Male') & (data['salary'] == '>50K')].shape[0]\n",
    "men_over_50k_merried = data[(data['sex'] == 'Male') & (data['salary'] == '>50K') & (data['marital-status'].isin(['Married-civ-spouse', 'Married-spouse-absent','Married-AF-spouse']))].shape[0]\n",
    "print(f'Total men with earing more than 50k {men_over_50k} it is 100%' )\n",
    "print(f'Part of merried -   {round((men_over_50k_merried/men_over_50k)*100, 2)}%')\n",
    "print(f'Part of single -    {round(((men_over_50k - men_over_50k_merried)/men_over_50k)*100, 2)}%')"
   ],
   "execution_count": 87,
   "outputs": []
  },
  {
   "cell_type": "markdown",
   "metadata": {},
   "source": [
    "**9. Какое максимальное число часов человек работает в неделю (признак *hours-per-week*)? Сколько людей работают такое количество часов и каков среди них процент зарабатывающих много?**"
   ]
  },
  {
   "cell_type": "code",
   "metadata": {
    "ExecuteTime": {
     "end_time": "2024-07-17T15:19:45.962213Z",
     "start_time": "2024-07-17T15:19:45.951169Z"
    }
   },
   "source": [
    "max_hour_per_week = data['hours-per-week'].max()\n",
    "with_max_hours_more_than50k = data[(data['hours-per-week']==max_hour_per_week) & (data['salary']=='>50K')].shape[0]\n",
    "total_with_max_hours = data[(data['hours-per-week']==max_hour_per_week)].shape[0]\n",
    "\n",
    "print(f'Max hours per week is - {max_hour_per_week}')\n",
    "print(f'Total people who work {max_hour_per_week} hours per week is - {total_with_max_hours}')\n",
    "print(f'Percent of people who earing more than 50K and work about {max_hour_per_week} hours per week is - {round(with_max_hours_more_than50k/total_with_max_hours*100,2)}%')\n"
   ],
   "execution_count": 103,
   "outputs": []
  },
  {
   "cell_type": "markdown",
   "metadata": {},
   "source": [
    "**10. Посчитайте среднее время работы (*hours-per-week*) зарабатывающих мало и много (*salary*) для каждой страны (*native-country*).**"
   ]
  },
  {
   "cell_type": "code",
   "metadata": {
    "scrolled": true,
    "ExecuteTime": {
     "end_time": "2024-07-17T16:34:51.619652Z",
     "start_time": "2024-07-17T16:34:51.607014Z"
    }
   },
   "source": [
    "average_hours_per_country = data.groupby(['native-country', 'salary'])['hours-per-week'].mean()\n",
    "print(f'Average count of working hours per week forr each country and separate by salary level : \\n {round(average_hours_per_country,2)}')"
   ],
   "execution_count": 108,
   "outputs": []
  },
  {
   "cell_type": "markdown",
   "metadata": {},
   "source": [
    "**11.Сгруппируйте людей по возрастным группам *young*, *adult*, *retiree*, где:**\n",
    "* *young* соответствует 16-35 лет\n",
    "* *adult* - 35-70 лет\n",
    "* *retiree* - 70-100 лет\n",
    "\n",
    "**Проставьте название соответсвтуещей группы для каждого человека в новой колонке AgeGroup**"
   ]
  },
  {
   "cell_type": "code",
   "metadata": {
    "scrolled": true,
    "ExecuteTime": {
     "end_time": "2024-07-18T06:59:22.123547Z",
     "start_time": "2024-07-18T06:59:22.096128Z"
    }
   },
   "source": [
    "def age_groups(age):\n",
    "    if 16 <= age <= 35:\n",
    "        return 'young'\n",
    "    elif 35 < age <= 70:\n",
    "        return 'adult'\n",
    "    elif 70 < age <= 100:\n",
    "        return 'retiree'\n",
    "    else:\n",
    "        return 'else'\n",
    "    \n",
    "data['AgeGroup'] = data['age'].apply(age_groups)\n",
    "\n",
    "print(data[['age', 'AgeGroup']].head())\n",
    "data.head()"
   ],
   "execution_count": 113,
   "outputs": []
  },
  {
   "cell_type": "markdown",
   "metadata": {},
   "source": [
    "**12-13. Определите количество зарабатывающих >50K в каждой из возрастных групп (колонка AgeGroup), а также выведите название возрастной группы, в которой чаще зарабатывают больше 50К (>50K)**"
   ]
  },
  {
   "cell_type": "code",
   "metadata": {
    "ExecuteTime": {
     "end_time": "2024-07-18T07:11:52.792063Z",
     "start_time": "2024-07-18T07:11:52.780360Z"
    }
   },
   "source": [
    "more_then_50k_agegroup = data[data['salary'] == '>50K'].groupby('AgeGroup').size()\n",
    "\n",
    "max_group = more_then_50k_agegroup.idxmax()\n",
    "\n",
    "print(f'Group with >50K earing is \"{max_group}\" with {more_then_50k_agegroup[max_group]} people.\\n')\n",
    "\n",
    "print('People with >50k for each group :')\n",
    "more_then_50k_agegroup\n"
   ],
   "execution_count": 127,
   "outputs": []
  },
  {
   "cell_type": "markdown",
   "metadata": {},
   "source": [
    "**14. Сгруппируйте людей по типу занятости (колонка occupation) и определите количество людей в каждой группе. После чего напишите функциюю фильтрации filter_func, которая будет возвращать только те группы, в которых средний возраст (колонка age) не больше 40 и в которых все работники отрабатывают более 5 часов в неделю (колонка hours-per-week)**"
   ]
  },
  {
   "cell_type": "code",
   "metadata": {
    "ExecuteTime": {
     "end_time": "2024-07-18T08:33:16.767895Z",
     "start_time": "2024-07-18T08:33:16.745823Z"
    }
   },
   "source": [
    "#Grope data by occupation\n",
    "occupation_counts = data.groupby('occupation').size()\n",
    "print(f'{occupation_counts}\\n')\n",
    "\n",
    "#Make function average age up to and include 40 years and employee worked more than 5 hours per week\n",
    "def filtering(group):\n",
    "    if group['age'].mean() <= 40:\n",
    "        if group['hours-per-week'].min() > 5:\n",
    "            return True\n",
    "    return False\n",
    "\n",
    "#Add function for group with all filters\n",
    "group_filtered = data.groupby('occupation').filter(filtering)\n",
    "\n",
    "print(group_filtered['occupation'].value_counts())\n",
    "\n"
   ],
   "execution_count": 130,
   "outputs": []
  },
  {
   "metadata": {},
   "cell_type": "code",
   "execution_count": null,
   "source": "",
   "outputs": []
  }
 ],
 "metadata": {
  "anaconda-cloud": {},
  "kernelspec": {
   "display_name": "Python 3 (ipykernel)",
   "language": "python",
   "name": "python3"
  },
  "language_info": {
   "codemirror_mode": {
    "name": "ipython",
    "version": 3
   },
   "file_extension": ".py",
   "mimetype": "text/x-python",
   "name": "python",
   "nbconvert_exporter": "python",
   "pygments_lexer": "ipython3",
   "version": "3.8.10"
  }
 },
 "nbformat": 4,
 "nbformat_minor": 1
}
